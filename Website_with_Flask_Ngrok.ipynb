{
  "nbformat": 4,
  "nbformat_minor": 0,
  "metadata": {
    "colab": {
      "provenance": [],
      "authorship_tag": "ABX9TyMvkOVTKBFAsqj5A03hfI+L",
      "include_colab_link": true
    },
    "kernelspec": {
      "name": "python3",
      "display_name": "Python 3"
    },
    "language_info": {
      "name": "python"
    }
  },
  "cells": [
    {
      "cell_type": "markdown",
      "metadata": {
        "id": "view-in-github",
        "colab_type": "text"
      },
      "source": [
        "<a href=\"https://colab.research.google.com/github/hphuc-bme138/Skin-disease-dectection-using-ResNet-152-and-web-app-with-Flask-ngrok/blob/main/Website_with_Flask_Ngrok.ipynb\" target=\"_parent\"><img src=\"https://colab.research.google.com/assets/colab-badge.svg\" alt=\"Open In Colab\"/></a>"
      ]
    },
    {
      "cell_type": "markdown",
      "source": [
        "# **Install the environment and required libraries**"
      ],
      "metadata": {
        "id": "3Kldk9sGHqMM"
      }
    },
    {
      "cell_type": "code",
      "execution_count": null,
      "metadata": {
        "id": "lz_nLoNHGlM7"
      },
      "outputs": [],
      "source": [
        "!pip install tensorflow==2.9.0\n",
        "!pip install keras==2.9.0\n",
        "!pip install pyngrok\n",
        "!pip install flask_ngrok\n"
      ]
    },
    {
      "cell_type": "code",
      "source": [
        "from flask_ngrok import run_with_ngrok\n",
        "from flask import Flask, render_template , request\n",
        "import os\n",
        "from pyngrok import ngrok\n"
      ],
      "metadata": {
        "id": "kU-6QzB8HThP"
      },
      "execution_count": null,
      "outputs": []
    },
    {
      "cell_type": "code",
      "source": [
        "from keras.models import load_model\n",
        "from keras.utils import load_img, img_to_array\n",
        "import numpy as np"
      ],
      "metadata": {
        "id": "-cfcEQ9hJsz7"
      },
      "execution_count": null,
      "outputs": []
    },
    {
      "cell_type": "markdown",
      "source": [
        "Import model"
      ],
      "metadata": {
        "id": "9UlnoEISH6YN"
      }
    },
    {
      "cell_type": "code",
      "source": [
        "new_model = tensorflow.keras.models.load_model('/content/drive/MyDrive/.../ResNet152.h5')"
      ],
      "metadata": {
        "id": "A2nKY58jH61O"
      },
      "execution_count": null,
      "outputs": []
    },
    {
      "cell_type": "markdown",
      "source": [
        "Set up token for Flask-ngrok"
      ],
      "metadata": {
        "id": "iKM96O0SIvTL"
      }
    },
    {
      "cell_type": "code",
      "source": [
        "# please visit https://dashboard.ngrok.com/ to create an account and get auth-token\n",
        "\n",
        "ngrok.set_auth_token(\"2JvyzhQoDTO9yxaFOalO2eejjzB_6GVHYNVtehoZeWKHE2m6q\")\n",
        "public_url = ngrok.connect(5000).public_url\n",
        "print(public_url)\n",
        "port_no = 5000\n"
      ],
      "metadata": {
        "id": "hju699vuI4zu"
      },
      "execution_count": null,
      "outputs": []
    },
    {
      "cell_type": "markdown",
      "source": [
        "## **Create the interface and how it works for the website**"
      ],
      "metadata": {
        "id": "WjX2gb22JgM1"
      }
    },
    {
      "cell_type": "code",
      "source": [
        "static = '/content/static'\n",
        "os.mkdir(static)\n",
        "\n",
        "uploads = '/content/static/uploads'\n",
        "os.mkdir(uploads)\n",
        "\n",
        "templates = '/content/templates'\n",
        "os.mkdir(templates)"
      ],
      "metadata": {
        "id": "ZK1L3zUMJoVt"
      },
      "execution_count": null,
      "outputs": []
    },
    {
      "cell_type": "code",
      "source": [
        "from flask import Flask, render_template, request\n",
        "import os\n",
        "from werkzeug.utils import secure_filename\n",
        "\n",
        "UPLOAD_FOLDER = os.path.join('/content/static', 'uploads')\n",
        "\n",
        "print(UPLOAD_FOLDER)\n",
        "app = Flask(__name__,\n",
        "            static_folder='/content/static', ,
        "            template_folder='/content/templates') ,
        "\n",
        "@app.route('/', methods=([\"GET\", 'POST']))\n",
        "def home():\n",
        "    if request.method == 'POST':\n",
        "      uploaded_img = request.files['uploaded-file']\n",
        "      img_filename = secure_filename(uploaded_img.filename)\n",
        "      uploaded_img.save(os.path.join(UPLOAD_FOLDER, img_filename))\n",
        "      image_path = '/content/static/uploads/' + img_filename\n",
        "\n",
        "\n",
        "      img = load_img(image_path, target_size=(192, 256))\n",
        "      x = img_to_array(img)\n",
        "      x = np.expand_dims(x, axis=0)\n",
        "      images = np.vstack([x])\n",
        "      Label = new_model.predict(images, verbose = 1)\n",
        "\n",
        "      if Label[0,0] > 0.5:\n",
        "        return render_template('home.html', user_image = '/static/uploads/' + img_filename, predict_label = 'Actinic Keratosis') # predict_label la ket qua\n",
        "      elif Label[0,1] > 0.5:\n",
        "        return render_template('home.html', user_image = '/static/uploads/' + img_filename, predict_label = 'Acne Vulgaris') # predict_label la ket qua\n",
        "      elif Label[0,2] > 0.5:\n",
        "        return render_template('home.html', user_image = '/static/uploads/' + img_filename, predict_label = 'Eczema') # predict_label la ket qua\n",
        "      elif Label[0,3] > 0.5:\n",
        "        return render_template('home.html', user_image = '/static/uploads/' + img_filename, predict_label = 'Psoriasis') # predict_label la ket qua\n",
        "    return render_template('home.html', predict_label = '')\n",
        "\n",
        "@app.route('/about')\n",
        "def about():\n",
        "    return render_template('about.html')\n",
        "\n",
        "@app.route('/contact')\n",
        "def contact():\n",
        "    return render_template('contact.html')\n",
        "\n",
        "@app.route('/skin-lesion')\n",
        "def lesion():\n",
        "    return render_template('lesion.html')\n",
        "\n",
        "@app.route('/static/<path:path>')\n",
        "def static_file(path):\n",
        "    print(path)\n",
        "    return app.send_static_file(path)"
      ],
      "metadata": {
        "id": "92DcjMlOJ0eJ"
      },
      "execution_count": null,
      "outputs": []
    },
    {
      "cell_type": "markdown",
      "source": [
        "# **Run web app**"
      ],
      "metadata": {
        "id": "EwK4XlftKFP2"
      }
    },
    {
      "cell_type": "code",
      "source": [
        "run_with_ngrok(app)"
      ],
      "metadata": {
        "id": "4_muIf-MKJFo"
      },
      "execution_count": null,
      "outputs": []
    },
    {
      "cell_type": "code",
      "source": [
        "if __name__=='__main__':\n",
        "  app.run()\n"
      ],
      "metadata": {
        "id": "ecy-7BVeKTDt"
      },
      "execution_count": null,
      "outputs": []
    }
  ]
}
